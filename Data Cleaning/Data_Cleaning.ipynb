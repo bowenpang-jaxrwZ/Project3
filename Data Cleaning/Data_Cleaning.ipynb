{
 "cells": [
  {
   "cell_type": "code",
   "execution_count": 29,
   "metadata": {},
   "outputs": [],
   "source": [
    "import pandas as pd\n",
    "data = pd.read_csv('../Resources/Auto_Theft_Open_Data.csv')\n",
    "data2 = pd.read_csv('../Resources/Assault_Open_Data.csv')\n",
    "data3 = pd.read_csv('../Resources/Bicycle_Thefts_Open_Data.csv')\n",
    "data4 = pd.read_csv('../Resources/Break_and_Enter_Open_Data.csv')\n",
    "data5 = pd.read_csv('../Resources/Homicides_Open_Data_ASR_RC_TBL_002.csv')\n",
    "data6 = pd.read_csv('../Resources/Robbery_Open_Data.csv')\n",
    "data7 = pd.read_csv('../Resources/Shooting_and_Firearm_Discharges_Open_Data.csv')\n",
    "data8 = pd.read_csv('../Resources/Theft_From_Motor_Vehicle_Open_Data.csv')\n",
    "data9 = pd.read_csv('../Resources/Theft_Over_Open_Data.csv')"
   ]
  },
  {
   "attachments": {},
   "cell_type": "markdown",
   "metadata": {},
   "source": [
    "### Don't be broken"
   ]
  },
  {
   "cell_type": "code",
   "execution_count": 30,
   "metadata": {},
   "outputs": [],
   "source": [
    "df = pd.DataFrame(data)\n",
    "df2 = pd.DataFrame(data2)\n",
    "df3 = pd.DataFrame(data3)\n",
    "df4 = pd.DataFrame(data4)\n",
    "df5 = pd.DataFrame(data5)\n",
    "df6 = pd.DataFrame(data6)\n",
    "df7 = pd.DataFrame(data7)\n",
    "df8 = pd.DataFrame(data8)\n",
    "df9 = pd.DataFrame(data9)\n",
    "\n"
   ]
  },
  {
   "cell_type": "code",
   "execution_count": 31,
   "metadata": {},
   "outputs": [],
   "source": [
    "frames = [df,df2,df3,df4,df5,df6,df7,df8,df9]"
   ]
  },
  {
   "cell_type": "code",
   "execution_count": 32,
   "metadata": {},
   "outputs": [],
   "source": [
    "result = pd.concat(frames)"
   ]
  },
  {
   "cell_type": "code",
   "execution_count": 33,
   "metadata": {},
   "outputs": [
    {
     "data": {
      "text/plain": [
       "Index(['X', 'Y', 'OBJECTID', 'EVENT_UNIQUE_ID', 'REPORT_DATE', 'OCC_DATE',\n",
       "       'REPORT_YEAR', 'REPORT_MONTH', 'REPORT_DAY', 'REPORT_DOY', 'REPORT_DOW',\n",
       "       'REPORT_HOUR', 'OCC_YEAR', 'OCC_MONTH', 'OCC_DAY', 'OCC_DOY', 'OCC_DOW',\n",
       "       'OCC_HOUR', 'DIVISION', 'LOCATION_TYPE', 'PREMISES_TYPE', 'UCR_CODE',\n",
       "       'UCR_EXT', 'OFFENCE', 'MCI_CATEGORY', 'HOOD_158', 'NEIGHBOURHOOD_158',\n",
       "       'HOOD_140', 'NEIGHBOURHOOD_140', 'LONG_WGS84', 'LAT_WGS84',\n",
       "       'PRIMARY_OFFENCE', 'BIKE_MAKE', 'BIKE_MODEL', 'BIKE_TYPE', 'BIKE_SPEED',\n",
       "       'BIKE_COLOUR', 'BIKE_COST', 'STATUS', 'HOMICIDE_TYPE', 'OCC_TIME_RANGE',\n",
       "       'DEATH', 'INJURIES', 'F_num_removed'],\n",
       "      dtype='object')"
      ]
     },
     "execution_count": 33,
     "metadata": {},
     "output_type": "execute_result"
    }
   ],
   "source": [
    "result.columns"
   ]
  },
  {
   "attachments": {},
   "cell_type": "markdown",
   "metadata": {},
   "source": [
    "### Auto Theft Data"
   ]
  },
  {
   "cell_type": "code",
   "execution_count": 34,
   "metadata": {},
   "outputs": [],
   "source": [
    "columns_to_keep = ['EVENT_UNIQUE_ID','HOOD_158','NEIGHBOURHOOD_158','X', 'Y','REPORT_YEAR', 'REPORT_MONTH','OFFENCE','MCI_CATEGORY' ]"
   ]
  },
  {
   "cell_type": "code",
   "execution_count": 35,
   "metadata": {},
   "outputs": [],
   "source": [
    "filtered_df = result[columns_to_keep]"
   ]
  },
  {
   "cell_type": "code",
   "execution_count": 36,
   "metadata": {},
   "outputs": [],
   "source": [
    "filtered_df = filtered_df[filtered_df['HOOD_158'] != 'NSA']"
   ]
  },
  {
   "cell_type": "code",
   "execution_count": 37,
   "metadata": {},
   "outputs": [
    {
     "data": {
      "text/html": [
       "<div>\n",
       "<style scoped>\n",
       "    .dataframe tbody tr th:only-of-type {\n",
       "        vertical-align: middle;\n",
       "    }\n",
       "\n",
       "    .dataframe tbody tr th {\n",
       "        vertical-align: top;\n",
       "    }\n",
       "\n",
       "    .dataframe thead th {\n",
       "        text-align: right;\n",
       "    }\n",
       "</style>\n",
       "<table border=\"1\" class=\"dataframe\">\n",
       "  <thead>\n",
       "    <tr style=\"text-align: right;\">\n",
       "      <th></th>\n",
       "      <th>EVENT_UNIQUE_ID</th>\n",
       "      <th>HOOD_158</th>\n",
       "      <th>NEIGHBOURHOOD_158</th>\n",
       "      <th>X</th>\n",
       "      <th>Y</th>\n",
       "      <th>REPORT_YEAR</th>\n",
       "      <th>REPORT_MONTH</th>\n",
       "      <th>OFFENCE</th>\n",
       "      <th>MCI_CATEGORY</th>\n",
       "    </tr>\n",
       "  </thead>\n",
       "  <tbody>\n",
       "    <tr>\n",
       "      <th>0</th>\n",
       "      <td>GO-20141263217</td>\n",
       "      <td>43</td>\n",
       "      <td>Victoria Village</td>\n",
       "      <td>-79.306757</td>\n",
       "      <td>43.734652</td>\n",
       "      <td>2014.0</td>\n",
       "      <td>January</td>\n",
       "      <td>Theft Of Motor Vehicle</td>\n",
       "      <td>Auto Theft</td>\n",
       "    </tr>\n",
       "    <tr>\n",
       "      <th>1</th>\n",
       "      <td>GO-20141262914</td>\n",
       "      <td>123</td>\n",
       "      <td>Cliffcrest</td>\n",
       "      <td>-79.236189</td>\n",
       "      <td>43.721847</td>\n",
       "      <td>2014.0</td>\n",
       "      <td>January</td>\n",
       "      <td>Theft Of Motor Vehicle</td>\n",
       "      <td>Auto Theft</td>\n",
       "    </tr>\n",
       "    <tr>\n",
       "      <th>2</th>\n",
       "      <td>GO-20141262837</td>\n",
       "      <td>159</td>\n",
       "      <td>Etobicoke City Centre</td>\n",
       "      <td>-79.529478</td>\n",
       "      <td>43.618472</td>\n",
       "      <td>2014.0</td>\n",
       "      <td>January</td>\n",
       "      <td>Theft Of Motor Vehicle</td>\n",
       "      <td>Auto Theft</td>\n",
       "    </tr>\n",
       "    <tr>\n",
       "      <th>3</th>\n",
       "      <td>GO-20141265795</td>\n",
       "      <td>9</td>\n",
       "      <td>Edenbridge-Humber Valley</td>\n",
       "      <td>-79.516814</td>\n",
       "      <td>43.683438</td>\n",
       "      <td>2014.0</td>\n",
       "      <td>January</td>\n",
       "      <td>Theft Of Motor Vehicle</td>\n",
       "      <td>Auto Theft</td>\n",
       "    </tr>\n",
       "    <tr>\n",
       "      <th>4</th>\n",
       "      <td>GO-20141265947</td>\n",
       "      <td>2</td>\n",
       "      <td>Mount Olive-Silverstone-Jamestown</td>\n",
       "      <td>-79.595364</td>\n",
       "      <td>43.744281</td>\n",
       "      <td>2014.0</td>\n",
       "      <td>January</td>\n",
       "      <td>Theft Of Motor Vehicle</td>\n",
       "      <td>Auto Theft</td>\n",
       "    </tr>\n",
       "    <tr>\n",
       "      <th>...</th>\n",
       "      <td>...</td>\n",
       "      <td>...</td>\n",
       "      <td>...</td>\n",
       "      <td>...</td>\n",
       "      <td>...</td>\n",
       "      <td>...</td>\n",
       "      <td>...</td>\n",
       "      <td>...</td>\n",
       "      <td>...</td>\n",
       "    </tr>\n",
       "    <tr>\n",
       "      <th>10740</th>\n",
       "      <td>GO-20222558987</td>\n",
       "      <td>23</td>\n",
       "      <td>Pelmo Park-Humberlea</td>\n",
       "      <td>-79.533497</td>\n",
       "      <td>43.733619</td>\n",
       "      <td>2022.0</td>\n",
       "      <td>December</td>\n",
       "      <td>Theft Over</td>\n",
       "      <td>Theft Over</td>\n",
       "    </tr>\n",
       "    <tr>\n",
       "      <th>10741</th>\n",
       "      <td>GO-20222559198</td>\n",
       "      <td>95</td>\n",
       "      <td>Annex</td>\n",
       "      <td>-79.391279</td>\n",
       "      <td>43.671127</td>\n",
       "      <td>2022.0</td>\n",
       "      <td>December</td>\n",
       "      <td>Theft From Motor Vehicle Over</td>\n",
       "      <td>Theft Over</td>\n",
       "    </tr>\n",
       "    <tr>\n",
       "      <th>10742</th>\n",
       "      <td>GO-20229051758</td>\n",
       "      <td>38</td>\n",
       "      <td>Lansing-Westgate</td>\n",
       "      <td>-79.412053</td>\n",
       "      <td>43.763068</td>\n",
       "      <td>2022.0</td>\n",
       "      <td>December</td>\n",
       "      <td>Theft From Motor Vehicle Over</td>\n",
       "      <td>Theft Over</td>\n",
       "    </tr>\n",
       "    <tr>\n",
       "      <th>10743</th>\n",
       "      <td>GO-20222560989</td>\n",
       "      <td>50</td>\n",
       "      <td>Newtonbrook East</td>\n",
       "      <td>-79.418131</td>\n",
       "      <td>43.790247</td>\n",
       "      <td>2022.0</td>\n",
       "      <td>December</td>\n",
       "      <td>Theft From Motor Vehicle Over</td>\n",
       "      <td>Theft Over</td>\n",
       "    </tr>\n",
       "    <tr>\n",
       "      <th>10744</th>\n",
       "      <td>GO-20222561610</td>\n",
       "      <td>156</td>\n",
       "      <td>Bendale-Glen Andrew</td>\n",
       "      <td>-79.258766</td>\n",
       "      <td>43.773233</td>\n",
       "      <td>2022.0</td>\n",
       "      <td>December</td>\n",
       "      <td>Theft Over</td>\n",
       "      <td>Theft Over</td>\n",
       "    </tr>\n",
       "  </tbody>\n",
       "</table>\n",
       "<p>437303 rows × 9 columns</p>\n",
       "</div>"
      ],
      "text/plain": [
       "      EVENT_UNIQUE_ID HOOD_158                  NEIGHBOURHOOD_158          X  \\\n",
       "0      GO-20141263217       43                   Victoria Village -79.306757   \n",
       "1      GO-20141262914      123                         Cliffcrest -79.236189   \n",
       "2      GO-20141262837      159              Etobicoke City Centre -79.529478   \n",
       "3      GO-20141265795        9           Edenbridge-Humber Valley -79.516814   \n",
       "4      GO-20141265947        2  Mount Olive-Silverstone-Jamestown -79.595364   \n",
       "...               ...      ...                                ...        ...   \n",
       "10740  GO-20222558987       23               Pelmo Park-Humberlea -79.533497   \n",
       "10741  GO-20222559198       95                              Annex -79.391279   \n",
       "10742  GO-20229051758       38                   Lansing-Westgate -79.412053   \n",
       "10743  GO-20222560989       50                   Newtonbrook East -79.418131   \n",
       "10744  GO-20222561610      156                Bendale-Glen Andrew -79.258766   \n",
       "\n",
       "               Y  REPORT_YEAR REPORT_MONTH                        OFFENCE  \\\n",
       "0      43.734652       2014.0      January         Theft Of Motor Vehicle   \n",
       "1      43.721847       2014.0      January         Theft Of Motor Vehicle   \n",
       "2      43.618472       2014.0      January         Theft Of Motor Vehicle   \n",
       "3      43.683438       2014.0      January         Theft Of Motor Vehicle   \n",
       "4      43.744281       2014.0      January         Theft Of Motor Vehicle   \n",
       "...          ...          ...          ...                            ...   \n",
       "10740  43.733619       2022.0     December                     Theft Over   \n",
       "10741  43.671127       2022.0     December  Theft From Motor Vehicle Over   \n",
       "10742  43.763068       2022.0     December  Theft From Motor Vehicle Over   \n",
       "10743  43.790247       2022.0     December  Theft From Motor Vehicle Over   \n",
       "10744  43.773233       2022.0     December                     Theft Over   \n",
       "\n",
       "      MCI_CATEGORY  \n",
       "0       Auto Theft  \n",
       "1       Auto Theft  \n",
       "2       Auto Theft  \n",
       "3       Auto Theft  \n",
       "4       Auto Theft  \n",
       "...            ...  \n",
       "10740   Theft Over  \n",
       "10741   Theft Over  \n",
       "10742   Theft Over  \n",
       "10743   Theft Over  \n",
       "10744   Theft Over  \n",
       "\n",
       "[437303 rows x 9 columns]"
      ]
     },
     "execution_count": 37,
     "metadata": {},
     "output_type": "execute_result"
    }
   ],
   "source": [
    "filtered_df"
   ]
  },
  {
   "cell_type": "code",
   "execution_count": 38,
   "metadata": {},
   "outputs": [],
   "source": [
    "filtered_df.to_csv('../Resources/Final_Dataset.csv')"
   ]
  },
  {
   "cell_type": "code",
   "execution_count": 39,
   "metadata": {},
   "outputs": [
    {
     "data": {
      "text/plain": [
       "Index(['X', 'Y', 'OBJECTID', 'EVENT_UNIQUE_ID', 'PRIMARY_OFFENCE', 'OCC_DATE',\n",
       "       'OCC_YEAR', 'OCC_MONTH', 'OCC_DOW', 'OCC_DAY', 'OCC_DOY', 'OCC_HOUR',\n",
       "       'REPORT_DATE', 'REPORT_YEAR', 'REPORT_MONTH', 'REPORT_DOW',\n",
       "       'REPORT_DAY', 'REPORT_DOY', 'REPORT_HOUR', 'DIVISION', 'LOCATION_TYPE',\n",
       "       'PREMISES_TYPE', 'BIKE_MAKE', 'BIKE_MODEL', 'BIKE_TYPE', 'BIKE_SPEED',\n",
       "       'BIKE_COLOUR', 'BIKE_COST', 'STATUS', 'HOOD_158', 'NEIGHBOURHOOD_158',\n",
       "       'HOOD_140', 'NEIGHBOURHOOD_140', 'LONG_WGS84', 'LAT_WGS84'],\n",
       "      dtype='object')"
      ]
     },
     "execution_count": 39,
     "metadata": {},
     "output_type": "execute_result"
    }
   ],
   "source": [
    "df3.columns"
   ]
  },
  {
   "cell_type": "code",
   "execution_count": 40,
   "metadata": {},
   "outputs": [],
   "source": [
    "bike_columns = ['EVENT_UNIQUE_ID','HOOD_158','NEIGHBOURHOOD_158','X','Y','PRIMARY_OFFENCE','REPORT_YEAR','REPORT_MONTH']"
   ]
  },
  {
   "cell_type": "code",
   "execution_count": 41,
   "metadata": {},
   "outputs": [
    {
     "data": {
      "text/plain": [
       "Index(['X', 'Y', 'OBJECTID', 'EVENT_UNIQUE_ID', 'OCC_DATE', 'OCC_YEAR',\n",
       "       'OCC_MONTH', 'OCC_DAY', 'OCC_DOW', 'OCC_DOY', 'DIVISION',\n",
       "       'HOMICIDE_TYPE', 'HOOD_158', 'NEIGHBOURHOOD_158', 'HOOD_140',\n",
       "       'NEIGHBOURHOOD_140', 'LONG_WGS84', 'LAT_WGS84'],\n",
       "      dtype='object')"
      ]
     },
     "execution_count": 41,
     "metadata": {},
     "output_type": "execute_result"
    }
   ],
   "source": [
    "df5.columns"
   ]
  },
  {
   "cell_type": "code",
   "execution_count": 42,
   "metadata": {},
   "outputs": [],
   "source": [
    "homicide_columns = ['EVENT_UNIQUE_ID','HOOD_158', 'NEIGHBOURHOOD_158','X', 'Y','OCC_YEAR','OCC_MONTH']"
   ]
  },
  {
   "cell_type": "code",
   "execution_count": 43,
   "metadata": {},
   "outputs": [
    {
     "data": {
      "text/plain": [
       "Index(['X', 'Y', 'OBJECTID', 'EVENT_UNIQUE_ID', 'OCC_DATE', 'OCC_YEAR',\n",
       "       'OCC_MONTH', 'OCC_DOW', 'OCC_DOY', 'OCC_DAY', 'OCC_HOUR',\n",
       "       'OCC_TIME_RANGE', 'DIVISION', 'DEATH', 'INJURIES', 'HOOD_158',\n",
       "       'NEIGHBOURHOOD_158', 'HOOD_140', 'NEIGHBOURHOOD_140', 'LONG_WGS84',\n",
       "       'LAT_WGS84'],\n",
       "      dtype='object')"
      ]
     },
     "execution_count": 43,
     "metadata": {},
     "output_type": "execute_result"
    }
   ],
   "source": [
    "df7.columns"
   ]
  },
  {
   "cell_type": "code",
   "execution_count": 44,
   "metadata": {},
   "outputs": [],
   "source": [
    "shooting_columns = ['EVENT_UNIQUE_ID','HOOD_158','NEIGHBOURHOOD_158','X', 'Y','OCC_YEAR','OCC_MONTH']"
   ]
  },
  {
   "cell_type": "code",
   "execution_count": 45,
   "metadata": {},
   "outputs": [
    {
     "data": {
      "text/plain": [
       "Index(['X', 'Y', 'OBJECTID', 'EVENT_UNIQUE_ID', 'REPORT_DATE', 'OCC_DATE',\n",
       "       'REPORT_YEAR', 'REPORT_MONTH', 'REPORT_DAY', 'REPORT_DOY', 'REPORT_DOW',\n",
       "       'REPORT_HOUR', 'OCC_YEAR', 'OCC_MONTH', 'OCC_DAY', 'OCC_DOY', 'OCC_DOW',\n",
       "       'OCC_HOUR', 'DIVISION', 'LOCATION_TYPE', 'PREMISES_TYPE', 'UCR_CODE',\n",
       "       'UCR_EXT', 'OFFENCE', 'MCI_CATEGORY', 'HOOD_158', 'NEIGHBOURHOOD_158',\n",
       "       'HOOD_140', 'NEIGHBOURHOOD_140', 'LONG_WGS84', 'LAT_WGS84'],\n",
       "      dtype='object')"
      ]
     },
     "execution_count": 45,
     "metadata": {},
     "output_type": "execute_result"
    }
   ],
   "source": [
    "df9.columns"
   ]
  },
  {
   "cell_type": "code",
   "execution_count": 46,
   "metadata": {},
   "outputs": [],
   "source": [
    "auto_theft = df[columns_to_keep]\n",
    "auto_theft = auto_theft[auto_theft['HOOD_158'] != 'NSA']\n",
    "\n",
    "assault = df2[columns_to_keep]\n",
    "assault = assault[assault['HOOD_158'] != 'NSA']\n",
    "\n",
    "bike_theft = df3[bike_columns]\n",
    "bike_theft = bike_theft[bike_theft['HOOD_158'] != 'NSA']\n",
    "\n",
    "break_and_enter = df4[columns_to_keep]\n",
    "break_and_enter = break_and_enter[break_and_enter['HOOD_158'] != 'NSA']\n",
    "\n",
    "homicide = df5[homicide_columns]\n",
    "homicide = homicide[homicide['HOOD_158'] != 'NSA']\n",
    "\n",
    "robbery = df6[columns_to_keep]\n",
    "robbery = robbery[robbery['HOOD_158'] != 'NSA']\n",
    "\n",
    "shooting = df7[shooting_columns]\n",
    "shooting = shooting[shooting['HOOD_158'] != 'NSA']\n",
    "\n",
    "theft_from_vehicle = df8[columns_to_keep]\n",
    "theft_from_vehicle = theft_from_vehicle[theft_from_vehicle['HOOD_158'] != 'NSA']\n",
    "\n",
    "theft_over = df9[columns_to_keep]\n",
    "theft_over = theft_over[theft_over['HOOD_158'] != 'NSA']"
   ]
  },
  {
   "cell_type": "code",
   "execution_count": 47,
   "metadata": {},
   "outputs": [],
   "source": [
    "auto_theft['HOOD_158'] = auto_theft['HOOD_158'].astype(int)\n",
    "assault['HOOD_158'] = assault['HOOD_158'].astype(int)\n",
    "bike_theft['HOOD_158'] = bike_theft['HOOD_158'].astype(int)\n",
    "break_and_enter['HOOD_158'] = break_and_enter['HOOD_158'].astype(int)\n",
    "homicide['HOOD_158'] = homicide['HOOD_158'].astype(int)\n",
    "robbery['HOOD_158'] = robbery['HOOD_158'].astype(int)\n",
    "shooting['HOOD_158'] = shooting['HOOD_158'].astype(int)\n",
    "theft_from_vehicle['HOOD_158'] = theft_from_vehicle['HOOD_158'].astype(int)\n",
    "theft_over['HOOD_158'] = theft_over['HOOD_158'].astype(int)"
   ]
  },
  {
   "cell_type": "code",
   "execution_count": 48,
   "metadata": {},
   "outputs": [],
   "source": [
    "auto_theft = auto_theft.drop_duplicates(subset=['EVENT_UNIQUE_ID'])\n",
    "assault = assault.drop_duplicates(subset=['EVENT_UNIQUE_ID'])\n",
    "bike_theft = bike_theft.drop_duplicates(subset=['EVENT_UNIQUE_ID'])\n",
    "break_and_enter = break_and_enter.drop_duplicates(subset=['EVENT_UNIQUE_ID'])\n",
    "homicide = homicide.drop_duplicates(subset=['EVENT_UNIQUE_ID'])\n",
    "robbery = robbery.drop_duplicates(subset=['EVENT_UNIQUE_ID'])\n",
    "shooting = shooting.drop_duplicates(subset=['EVENT_UNIQUE_ID'])\n",
    "theft_from_vehicle = theft_from_vehicle.drop_duplicates(subset=['EVENT_UNIQUE_ID'])\n",
    "theft_over = theft_over.drop_duplicates(subset=['EVENT_UNIQUE_ID'])\n"
   ]
  },
  {
   "cell_type": "code",
   "execution_count": 49,
   "metadata": {},
   "outputs": [],
   "source": [
    "shooting = shooting.rename(columns={'OCC_YEAR':'REPORT_YEAR','OCC_MONTH':'REPORT_MONTH'})\n",
    "homicide = homicide.rename(columns={'OCC_YEAR':'REPORT_YEAR','OCC_MONTH':'REPORT_MONTH'})\n"
   ]
  },
  {
   "cell_type": "code",
   "execution_count": 58,
   "metadata": {},
   "outputs": [
    {
     "data": {
      "text/html": [
       "<div>\n",
       "<style scoped>\n",
       "    .dataframe tbody tr th:only-of-type {\n",
       "        vertical-align: middle;\n",
       "    }\n",
       "\n",
       "    .dataframe tbody tr th {\n",
       "        vertical-align: top;\n",
       "    }\n",
       "\n",
       "    .dataframe thead th {\n",
       "        text-align: right;\n",
       "    }\n",
       "</style>\n",
       "<table border=\"1\" class=\"dataframe\">\n",
       "  <thead>\n",
       "    <tr style=\"text-align: right;\">\n",
       "      <th></th>\n",
       "      <th>EVENT_UNIQUE_ID</th>\n",
       "      <th>HOOD_158</th>\n",
       "      <th>NEIGHBOURHOOD_158</th>\n",
       "      <th>X</th>\n",
       "      <th>Y</th>\n",
       "      <th>REPORT_YEAR</th>\n",
       "      <th>REPORT_MONTH</th>\n",
       "    </tr>\n",
       "  </thead>\n",
       "  <tbody>\n",
       "    <tr>\n",
       "      <th>0</th>\n",
       "      <td>GO-2004397105</td>\n",
       "      <td>142</td>\n",
       "      <td>Woburn North</td>\n",
       "      <td>-79.234955</td>\n",
       "      <td>43.781528</td>\n",
       "      <td>2004</td>\n",
       "      <td>May</td>\n",
       "    </tr>\n",
       "    <tr>\n",
       "      <th>1</th>\n",
       "      <td>GO-2004600109</td>\n",
       "      <td>1</td>\n",
       "      <td>West Humber-Clairville</td>\n",
       "      <td>-79.618218</td>\n",
       "      <td>43.733547</td>\n",
       "      <td>2004</td>\n",
       "      <td>July</td>\n",
       "    </tr>\n",
       "    <tr>\n",
       "      <th>2</th>\n",
       "      <td>GO-2004311851</td>\n",
       "      <td>24</td>\n",
       "      <td>Black Creek</td>\n",
       "      <td>-79.518759</td>\n",
       "      <td>43.769157</td>\n",
       "      <td>2004</td>\n",
       "      <td>May</td>\n",
       "    </tr>\n",
       "    <tr>\n",
       "      <th>3</th>\n",
       "      <td>GO-2004736004</td>\n",
       "      <td>168</td>\n",
       "      <td>Downtown Yonge East</td>\n",
       "      <td>-79.378870</td>\n",
       "      <td>43.660665</td>\n",
       "      <td>2004</td>\n",
       "      <td>December</td>\n",
       "    </tr>\n",
       "    <tr>\n",
       "      <th>4</th>\n",
       "      <td>GO-2004303455</td>\n",
       "      <td>146</td>\n",
       "      <td>Malvern East</td>\n",
       "      <td>-79.212435</td>\n",
       "      <td>43.812075</td>\n",
       "      <td>2004</td>\n",
       "      <td>April</td>\n",
       "    </tr>\n",
       "  </tbody>\n",
       "</table>\n",
       "</div>"
      ],
      "text/plain": [
       "  EVENT_UNIQUE_ID  HOOD_158       NEIGHBOURHOOD_158          X          Y  \\\n",
       "0   GO-2004397105       142            Woburn North -79.234955  43.781528   \n",
       "1   GO-2004600109         1  West Humber-Clairville -79.618218  43.733547   \n",
       "2   GO-2004311851        24             Black Creek -79.518759  43.769157   \n",
       "3   GO-2004736004       168     Downtown Yonge East -79.378870  43.660665   \n",
       "4   GO-2004303455       146            Malvern East -79.212435  43.812075   \n",
       "\n",
       "   REPORT_YEAR REPORT_MONTH  \n",
       "0         2004          May  \n",
       "1         2004         July  \n",
       "2         2004          May  \n",
       "3         2004     December  \n",
       "4         2004        April  "
      ]
     },
     "execution_count": 58,
     "metadata": {},
     "output_type": "execute_result"
    }
   ],
   "source": [
    "shooting.head()"
   ]
  },
  {
   "cell_type": "code",
   "execution_count": 50,
   "metadata": {},
   "outputs": [],
   "source": [
    "auto_theft.to_csv('../Resources/auto_theft_filtered.csv',index=False)\n",
    "assault.to_csv('../Resources/assault_filtered.csv',index=False)\n",
    "bike_theft.to_csv('../Resources/bike_theft_filtered.csv',index=False)\n",
    "break_and_enter.to_csv('../Resources/break_and_enter_filtered.csv',index=False)\n",
    "homicide.to_csv('../Resources/homicide_filtered.csv',index=False)\n",
    "robbery.to_csv('../Resources/robbery_filtered.csv',index=False)\n",
    "shooting.to_csv('../Resources/shooting_filtered.csv',index=False)\n",
    "theft_from_vehicle.to_csv('../Resources/theft_from_vehicle_filtered.csv',index=False)\n",
    "theft_over.to_csv('../Resources/theft_over_filtered.csv',index=False)\n",
    "\n"
   ]
  },
  {
   "cell_type": "code",
   "execution_count": 51,
   "metadata": {},
   "outputs": [],
   "source": [
    "neighbourhood_df = pd.DataFrame()\n",
    "hoodNum = filtered_df['HOOD_158'].unique()\n",
    "hoodName = filtered_df['NEIGHBOURHOOD_158'].unique()"
   ]
  },
  {
   "cell_type": "code",
   "execution_count": 52,
   "metadata": {},
   "outputs": [
    {
     "data": {
      "text/plain": [
       "EVENT_UNIQUE_ID       object\n",
       "HOOD_158              object\n",
       "NEIGHBOURHOOD_158     object\n",
       "X                    float64\n",
       "Y                    float64\n",
       "REPORT_YEAR          float64\n",
       "REPORT_MONTH          object\n",
       "OFFENCE               object\n",
       "MCI_CATEGORY          object\n",
       "dtype: object"
      ]
     },
     "execution_count": 52,
     "metadata": {},
     "output_type": "execute_result"
    }
   ],
   "source": [
    "filtered_df.dtypes"
   ]
  },
  {
   "cell_type": "code",
   "execution_count": 53,
   "metadata": {},
   "outputs": [],
   "source": [
    "neighbourhood_df['HOOD_158'] = hoodNum"
   ]
  },
  {
   "cell_type": "code",
   "execution_count": 54,
   "metadata": {},
   "outputs": [],
   "source": [
    "neighbourhood_df['NEIGHBOURHOOD_158'] = hoodName"
   ]
  },
  {
   "cell_type": "code",
   "execution_count": 55,
   "metadata": {},
   "outputs": [],
   "source": [
    "neighbourhood_df['HOOD_158'] = neighbourhood_df['HOOD_158'].astype(int)"
   ]
  },
  {
   "cell_type": "code",
   "execution_count": 56,
   "metadata": {},
   "outputs": [],
   "source": [
    "neighbourhood_df.to_csv('../Resources/neighbourhood.csv', index=False)"
   ]
  },
  {
   "cell_type": "code",
   "execution_count": 57,
   "metadata": {},
   "outputs": [
    {
     "data": {
      "text/html": [
       "<div>\n",
       "<style scoped>\n",
       "    .dataframe tbody tr th:only-of-type {\n",
       "        vertical-align: middle;\n",
       "    }\n",
       "\n",
       "    .dataframe tbody tr th {\n",
       "        vertical-align: top;\n",
       "    }\n",
       "\n",
       "    .dataframe thead th {\n",
       "        text-align: right;\n",
       "    }\n",
       "</style>\n",
       "<table border=\"1\" class=\"dataframe\">\n",
       "  <thead>\n",
       "    <tr style=\"text-align: right;\">\n",
       "      <th></th>\n",
       "      <th>EVENT_UNIQUE_ID</th>\n",
       "      <th>HOOD_158</th>\n",
       "      <th>NEIGHBOURHOOD_158</th>\n",
       "      <th>X</th>\n",
       "      <th>Y</th>\n",
       "      <th>REPORT_YEAR</th>\n",
       "      <th>REPORT_MONTH</th>\n",
       "      <th>OFFENCE</th>\n",
       "      <th>MCI_CATEGORY</th>\n",
       "    </tr>\n",
       "  </thead>\n",
       "  <tbody>\n",
       "    <tr>\n",
       "      <th>8</th>\n",
       "      <td>GO-20141260264</td>\n",
       "      <td>143</td>\n",
       "      <td>West Rouge</td>\n",
       "      <td>-79.132919</td>\n",
       "      <td>43.780412</td>\n",
       "      <td>2014</td>\n",
       "      <td>January</td>\n",
       "      <td>Assault</td>\n",
       "      <td>Assault</td>\n",
       "    </tr>\n",
       "  </tbody>\n",
       "</table>\n",
       "</div>"
      ],
      "text/plain": [
       "  EVENT_UNIQUE_ID  HOOD_158 NEIGHBOURHOOD_158          X          Y  \\\n",
       "8  GO-20141260264       143        West Rouge -79.132919  43.780412   \n",
       "\n",
       "   REPORT_YEAR REPORT_MONTH  OFFENCE MCI_CATEGORY  \n",
       "8         2014      January  Assault      Assault  "
      ]
     },
     "execution_count": 57,
     "metadata": {},
     "output_type": "execute_result"
    }
   ],
   "source": [
    "assault[assault['EVENT_UNIQUE_ID'] == 'GO-20141260264']"
   ]
  }
 ],
 "metadata": {
  "kernelspec": {
   "display_name": "base",
   "language": "python",
   "name": "python3"
  },
  "language_info": {
   "codemirror_mode": {
    "name": "ipython",
    "version": 3
   },
   "file_extension": ".py",
   "mimetype": "text/x-python",
   "name": "python",
   "nbconvert_exporter": "python",
   "pygments_lexer": "ipython3",
   "version": "3.9.13"
  },
  "orig_nbformat": 4
 },
 "nbformat": 4,
 "nbformat_minor": 2
}
